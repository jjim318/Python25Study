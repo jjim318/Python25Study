{
  "nbformat": 4,
  "nbformat_minor": 0,
  "metadata": {
    "colab": {
      "provenance": [],
      "authorship_tag": "ABX9TyO23l1us4iMzSOFdGFMWNNV",
      "include_colab_link": true
    },
    "kernelspec": {
      "name": "python3",
      "display_name": "Python 3"
    },
    "language_info": {
      "name": "python"
    }
  },
  "cells": [
    {
      "cell_type": "markdown",
      "metadata": {
        "id": "view-in-github",
        "colab_type": "text"
      },
      "source": [
        "<a href=\"https://colab.research.google.com/github/jjim318/Python25Study/blob/master/while%EB%AC%B8.ipynb\" target=\"_parent\"><img src=\"https://colab.research.google.com/assets/colab-badge.svg\" alt=\"Open In Colab\"/></a>"
      ]
    },
    {
      "cell_type": "markdown",
      "source": [
        "while 문의 기본 구조\n",
        "\n",
        "---\n",
        "while 조건문:\n",
        "\n",
        "    수행할_문장1\n",
        "    수행할_문장2\n",
        "    수행할_문장3\n",
        "    ...\n",
        "\n",
        "\n",
        "---\n",
        "\n",
        "treeHit = 0\n",
        "\n",
        "while treeHit < 10:\n",
        "\n",
        "     treeHit = treeHit +1\n",
        "\n",
        "     print(\"나무를 %d번 찍었습니다.\" % treeHit)\n",
        "\n",
        "     if treeHit == 10:\n",
        "\n",
        "             print(\"나무 넘어갑니다.\")\n",
        "\n",
        "결과 :\n",
        "나무를 1번 찍었습니다.\n",
        "나무를 2번 찍었습니다.\n",
        "나무를 3번 찍었습니다.\n",
        "나무를 4번 찍었습니다.\n",
        "나무를 5번 찍었습니다.\n",
        "나무를 6번 찍었습니다.\n",
        "나무를 7번 찍었습니다.\n",
        "나무를 8번 찍었습니다.\n",
        "나무를 9번 찍었습니다.\n",
        "나무를 10번 찍었습니다.\n",
        "나무 넘어갑니다.\n",
        "\n"
      ],
      "metadata": {
        "id": "qHl5DR7jyp4F"
      }
    },
    {
      "cell_type": "code",
      "source": [
        "prompt = \"\"\"\n",
        "1. Add\n",
        "2. Del\n",
        "3. List\n",
        "4. Quit\n",
        "Enter number: \"\"\"\n",
        "\n",
        "number = 0\n",
        "while number != 4:\n",
        "  print(prompt)\n",
        "  number = int(input())"
      ],
      "metadata": {
        "colab": {
          "base_uri": "https://localhost:8080/"
        },
        "id": "-BJcmbSJzOyU",
        "outputId": "45212818-630a-424c-d48f-5c2c1d6c0b15"
      },
      "execution_count": 4,
      "outputs": [
        {
          "name": "stdout",
          "output_type": "stream",
          "text": [
            "\n",
            "1. Add\n",
            "2. Del\n",
            "3. List\n",
            "4. Quit\n",
            "Enter number: \n",
            "4\n"
          ]
        }
      ]
    },
    {
      "cell_type": "code",
      "source": [
        "#while 문 강제로 빠져나가기\n",
        "# coffee.py\n",
        "coffee = 10\n",
        "while True:\n",
        "    money = int(input(\"돈을 넣어 주세요: \"))\n",
        "    if money == 300:\n",
        "        print(\"커피를 줍니다.\")\n",
        "        coffee = coffee -1\n",
        "        print(\"남은 커피의 양은 %d개 입니다.\" % coffee)\n",
        "    elif money > 300:\n",
        "        print(\"거스름돈 %d를 주고 커피를 줍니다.\" % (money -300))\n",
        "        coffee = coffee -1\n",
        "        print(\"남은 커피의 양은 %d개 입니다.\" % coffee)\n",
        "    else:\n",
        "        print(\"돈을 다시 돌려주고 커피를 주지 않습니다.\")\n",
        "        print(\"남은 커피의 양은 %d개 입니다.\" % coffee)\n",
        "    if coffee == 0:\n",
        "        print(\"커피가 다 떨어졌습니다. 판매를 중지 합니다.\")\n",
        "        break"
      ],
      "metadata": {
        "colab": {
          "base_uri": "https://localhost:8080/"
        },
        "id": "WZernxNY0QSq",
        "outputId": "03165d43-6a61-4165-c109-ed0a005bbacf"
      },
      "execution_count": 6,
      "outputs": [
        {
          "output_type": "stream",
          "name": "stdout",
          "text": [
            "돈을 넣어 주세요: 300\n",
            "커피를 줍니다.\n",
            "남은 커피의 양은 9개 입니다.\n",
            "돈을 넣어 주세요: 300\n",
            "커피를 줍니다.\n",
            "남은 커피의 양은 8개 입니다.\n",
            "돈을 넣어 주세요: 300\n",
            "커피를 줍니다.\n",
            "남은 커피의 양은 7개 입니다.\n",
            "돈을 넣어 주세요: 300\n",
            "커피를 줍니다.\n",
            "남은 커피의 양은 6개 입니다.\n",
            "돈을 넣어 주세요: 500\n",
            "거스름돈 200를 주고 커피를 줍니다.\n",
            "남은 커피의 양은 5개 입니다.\n",
            "돈을 넣어 주세요: 200202\n",
            "거스름돈 199902를 주고 커피를 줍니다.\n",
            "남은 커피의 양은 4개 입니다.\n",
            "돈을 넣어 주세요: 02020\n",
            "거스름돈 1720를 주고 커피를 줍니다.\n",
            "남은 커피의 양은 3개 입니다.\n",
            "돈을 넣어 주세요: 30302\n",
            "거스름돈 30002를 주고 커피를 줍니다.\n",
            "남은 커피의 양은 2개 입니다.\n",
            "돈을 넣어 주세요: 522221\n",
            "거스름돈 521921를 주고 커피를 줍니다.\n",
            "남은 커피의 양은 1개 입니다.\n",
            "돈을 넣어 주세요: 31313\n",
            "거스름돈 31013를 주고 커피를 줍니다.\n",
            "남은 커피의 양은 0개 입니다.\n",
            "커피가 다 떨어졌습니다. 판매를 중지 합니다.\n"
          ]
        }
      ]
    },
    {
      "cell_type": "code",
      "source": [
        "#while 문의 맨 처음으로 돌아가기\n",
        "#이때 사용하는 것이 바로 continue 문\n",
        "a = 0\n",
        "while a < 10:\n",
        "  a = a + 1\n",
        "  if a % 2 == 0: continue\n",
        "  print(a)"
      ],
      "metadata": {
        "colab": {
          "base_uri": "https://localhost:8080/"
        },
        "id": "zfFnQrPx1K7Z",
        "outputId": "f9f16ba7-a50e-4776-9a15-50a85651d855"
      },
      "execution_count": 7,
      "outputs": [
        {
          "output_type": "stream",
          "name": "stdout",
          "text": [
            "1\n",
            "3\n",
            "5\n",
            "7\n",
            "9\n"
          ]
        }
      ]
    }
  ]
}
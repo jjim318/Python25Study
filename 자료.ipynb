{
  "nbformat": 4,
  "nbformat_minor": 0,
  "metadata": {
    "colab": {
      "provenance": [],
      "authorship_tag": "ABX9TyMwq2gv9Id1qXxBzEkhzCzW",
      "include_colab_link": true
    },
    "kernelspec": {
      "name": "python3",
      "display_name": "Python 3"
    },
    "language_info": {
      "name": "python"
    }
  },
  "cells": [
    {
      "cell_type": "markdown",
      "metadata": {
        "id": "view-in-github",
        "colab_type": "text"
      },
      "source": [
        "<a href=\"https://colab.research.google.com/github/jjim318/Python25Study/blob/master/%EC%9E%90%EB%A3%8C.ipynb\" target=\"_parent\"><img src=\"https://colab.research.google.com/assets/colab-badge.svg\" alt=\"Open In Colab\"/></a>"
      ]
    },
    {
      "cell_type": "code",
      "execution_count": null,
      "metadata": {
        "id": "nkR499HNysUG"
      },
      "outputs": [],
      "source": [
        "# 숫자형\n",
        "# number 타입: 정수\n",
        "\n",
        "a=123\n"
      ]
    },
    {
      "cell_type": "code",
      "source": [
        "#문자열\n",
        "#큰 따옴표, 작은 따옴표, 큰따옴표 연속 3개로 둘러싸기, 작은따옴표 연속 3개로 둘러싸기\n",
        "#같은 따옴표는 겹치면 안 됨\n",
        "\n",
        "food = \"Python's favorite food is perl\"\n",
        "say = '\"Python is very easy.\" he says.'\n",
        "\n",
        "#역슬래시를 사용하면 그 뒤에 따라오는 문자열은 기호의 의미가 아니게 됨\n",
        "\n",
        "food = 'Python\\'s favorite food is perl'\n",
        "say = \"\\\"Python is very easy.\\\" he says.\"\n",
        "print(food,say)\n"
      ],
      "metadata": {
        "colab": {
          "base_uri": "https://localhost:8080/"
        },
        "id": "RFzun-b2DnA5",
        "outputId": "8675c2a6-12b8-4011-c50c-f8fdbb90fca3"
      },
      "execution_count": 10,
      "outputs": [
        {
          "output_type": "stream",
          "name": "stdout",
          "text": [
            "Python's favorite food is perl \"Python is very easy.\" he says.\n"
          ]
        }
      ]
    },
    {
      "cell_type": "code",
      "source": [
        "#줄을 바꾸기 위해 이스케이프 코드 사용\n",
        "multiline = \"Life is too short\\nYou need python\"\n",
        "print(multiline)"
      ],
      "metadata": {
        "colab": {
          "base_uri": "https://localhost:8080/"
        },
        "id": "9wYuD8etFJyF",
        "outputId": "bfca37b4-d910-449d-f90c-216e399282b4"
      },
      "execution_count": 9,
      "outputs": [
        {
          "output_type": "stream",
          "name": "stdout",
          "text": [
            "Life is too short\n",
            "You need python\n"
          ]
        }
      ]
    },
    {
      "cell_type": "markdown",
      "source": [
        "코드\t설명\n",
        "---\n",
        "\\n\t문자열 안에서 줄을 바꿀 때 사용\n",
        "---\n",
        "\\t\t문자열 사이에 탭 간격을 줄 때 사용\n",
        "---\n",
        "\\\\\t\\를 그대로 표현할 때 사용\n",
        "---\n",
        "\\\\'\t작은따옴표(')를 그대로 표현할 때 사용\n",
        "---\n",
        "\\\\\"\t큰따옴표(\")를 그대로 표현할 때 사용\n",
        "---\n",
        "\\r\t캐리지 리턴(줄 바꿈 문자, 커서를 현재 줄의 가장 앞으로 이동)\n",
        "---\n",
        "\\f\t폼 피드(줄 바꿈 문자, 커서를 현재 줄의 다음 줄로 이동)\n",
        "---\n",
        "\\a\t벨 소리(출력할 때 PC 스피커에서 '삑' 소리가 난다)\n",
        "---\n",
        "\\b\t백 스페이스\n",
        "---\n",
        "\\000\t널 문자\n",
        "---\n",
        "\n",
        "\n",
        "\n"
      ],
      "metadata": {
        "id": "jpFEVAFeGmxF"
      }
    },
    {
      "cell_type": "code",
      "source": [
        "#연속된 작은따옴표 3개는 줄 바꿀 수 있음\n",
        "multiline='''\n",
        "Life is too short\n",
        "You need python\n",
        "'''\n",
        "print(multiline)"
      ],
      "metadata": {
        "colab": {
          "base_uri": "https://localhost:8080/"
        },
        "id": "q7qOrdgOFuao",
        "outputId": "706a084a-0354-4a33-e00a-d32e3b11aabd"
      },
      "execution_count": 8,
      "outputs": [
        {
          "output_type": "stream",
          "name": "stdout",
          "text": [
            "\n",
            "Life is too short\n",
            "You need python\n",
            "\n"
          ]
        }
      ]
    },
    {
      "cell_type": "code",
      "source": [
        "#연속된 큰따옴표 3개는 줄 바꿀 수 있음\n",
        "multiline=\"\"\"\n",
        "Life is too short\n",
        "You need python\n",
        "\"\"\"\n",
        "print(multiline)"
      ],
      "metadata": {
        "colab": {
          "base_uri": "https://localhost:8080/"
        },
        "id": "-A79-Uo9F64S",
        "outputId": "abc85aa7-d742-49b7-81d6-5ebd6ee8dc82"
      },
      "execution_count": 11,
      "outputs": [
        {
          "output_type": "stream",
          "name": "stdout",
          "text": [
            "\n",
            "Life is too short\n",
            "You need python\n",
            "\n"
          ]
        }
      ]
    },
    {
      "cell_type": "code",
      "source": [
        "#문자열 연산\n",
        "head = \"Python\"\n",
        "tail = \" is fun!\"\n",
        "head + tail"
      ],
      "metadata": {
        "colab": {
          "base_uri": "https://localhost:8080/",
          "height": 35
        },
        "id": "5fqvbn5nHUDw",
        "outputId": "ea05e683-ee66-4244-d4d3-4f41c5bf38aa"
      },
      "execution_count": 12,
      "outputs": [
        {
          "output_type": "execute_result",
          "data": {
            "text/plain": [
              "'Python is fun!'"
            ],
            "application/vnd.google.colaboratory.intrinsic+json": {
              "type": "string"
            }
          },
          "metadata": {},
          "execution_count": 12
        }
      ]
    },
    {
      "cell_type": "code",
      "source": [
        "#문자열 곱하기\n",
        "a = \"python\"\n",
        "a * 2"
      ],
      "metadata": {
        "colab": {
          "base_uri": "https://localhost:8080/",
          "height": 35
        },
        "id": "TFezYXboHcf5",
        "outputId": "c52a4ea5-ab9c-465a-9280-0065415a878b"
      },
      "execution_count": 13,
      "outputs": [
        {
          "output_type": "execute_result",
          "data": {
            "text/plain": [
              "'pythonpython'"
            ],
            "application/vnd.google.colaboratory.intrinsic+json": {
              "type": "string"
            }
          },
          "metadata": {},
          "execution_count": 13
        }
      ]
    },
    {
      "cell_type": "code",
      "source": [
        "#문자열 곱하기 응용\n",
        "print(\"=\" * 50)\n",
        "print(\"My Program\")\n",
        "print(\"=\" * 50)"
      ],
      "metadata": {
        "colab": {
          "base_uri": "https://localhost:8080/"
        },
        "id": "E4McoQcyHjOB",
        "outputId": "f25a19b4-bdb4-4f11-f4bf-daa331fe26e4"
      },
      "execution_count": 14,
      "outputs": [
        {
          "output_type": "stream",
          "name": "stdout",
          "text": [
            "==================================================\n",
            "My Program\n",
            "==================================================\n"
          ]
        }
      ]
    },
    {
      "cell_type": "code",
      "source": [
        "#문자열 길이 구하기\n",
        "#문자열의 길이에는 공백 문자도 포함\n",
        "a = \"Life is too short\"\n",
        "len(a)"
      ],
      "metadata": {
        "colab": {
          "base_uri": "https://localhost:8080/"
        },
        "id": "aZxvkmeqHqSq",
        "outputId": "ce157d95-97f9-43a4-d9a8-180cfef7375c"
      },
      "execution_count": 15,
      "outputs": [
        {
          "output_type": "execute_result",
          "data": {
            "text/plain": [
              "17"
            ]
          },
          "metadata": {},
          "execution_count": 15
        }
      ]
    },
    {
      "cell_type": "code",
      "source": [
        "#문자열 인덱싱\n",
        "#인덱싱(indexing)이란 무엇인가를 '가리킨다'라는 의미\n",
        "a = \"Life is too short, You need Python\"\n",
        "a[3]"
      ],
      "metadata": {
        "colab": {
          "base_uri": "https://localhost:8080/",
          "height": 35
        },
        "id": "gj6d8v66Hy6a",
        "outputId": "2c8822fb-42d7-421f-c35c-58d682be41bb"
      },
      "execution_count": 21,
      "outputs": [
        {
          "output_type": "execute_result",
          "data": {
            "text/plain": [
              "'e'"
            ],
            "application/vnd.google.colaboratory.intrinsic+json": {
              "type": "string"
            }
          },
          "metadata": {},
          "execution_count": 21
        }
      ]
    },
    {
      "cell_type": "code",
      "source": [
        "#추가 예시\n",
        "a = \"Life is too short, You need Python\"\n",
        "a[-1]\n",
        "#a[-1]은 뒤에서부터 세어 첫 번째가 되는 문자를 말함\n",
        "#a[-0]라고 하지 않는 이유는 0과 -0은 똑같은 것이기 때문"
      ],
      "metadata": {
        "colab": {
          "base_uri": "https://localhost:8080/",
          "height": 35
        },
        "id": "E_lpKjYTH-P0",
        "outputId": "2d6aeef2-8b1b-456d-c748-d1ebd06fe31e"
      },
      "execution_count": 20,
      "outputs": [
        {
          "output_type": "execute_result",
          "data": {
            "text/plain": [
              "'n'"
            ],
            "application/vnd.google.colaboratory.intrinsic+json": {
              "type": "string"
            }
          },
          "metadata": {},
          "execution_count": 20
        }
      ]
    },
    {
      "cell_type": "code",
      "source": [
        "#문자열 슬라이싱\n",
        "#슬라이싱(slicing)은 무엇인가를 '잘라 낸다'라는 의미\n",
        "a = \"Life is too short, You need Python\"\n",
        "b = a[0] + a[1] + a[2] + a[3]\n",
        "b"
      ],
      "metadata": {
        "colab": {
          "base_uri": "https://localhost:8080/",
          "height": 35
        },
        "id": "C4842IOVIY-u",
        "outputId": "03c8d80c-17ce-42cc-8f7d-063d4c334fcb"
      },
      "execution_count": 19,
      "outputs": [
        {
          "output_type": "execute_result",
          "data": {
            "text/plain": [
              "'Life'"
            ],
            "application/vnd.google.colaboratory.intrinsic+json": {
              "type": "string"
            }
          },
          "metadata": {},
          "execution_count": 19
        }
      ]
    },
    {
      "cell_type": "code",
      "source": [
        "a = \"Life is too short, You need Python\"\n",
        "a[0:4]\n",
        "#문자열에서 자리 번호 0부터 4까지의 문자를 뽑아 낸다는 뜻"
      ],
      "metadata": {
        "colab": {
          "base_uri": "https://localhost:8080/",
          "height": 35
        },
        "id": "ZqtYxsVGInRX",
        "outputId": "ab6d90f4-3b72-44f7-e48f-3e596f0d3f5f"
      },
      "execution_count": 22,
      "outputs": [
        {
          "output_type": "execute_result",
          "data": {
            "text/plain": [
              "'Life'"
            ],
            "application/vnd.google.colaboratory.intrinsic+json": {
              "type": "string"
            }
          },
          "metadata": {},
          "execution_count": 22
        }
      ]
    },
    {
      "cell_type": "code",
      "source": [
        "a = \"Life is too short, You need Python\"\n",
        "a[0:3]\n",
        "#슬라이싱 기법으로 a[시작_번호:끝_번호]를 지정할 때\n",
        "#끝 번호에 해당하는 문자는 포함하지 않기 때문\n",
        "#a[0:3]을 수식으로 나타내면\n",
        "# 0 <= a < 3"
      ],
      "metadata": {
        "colab": {
          "base_uri": "https://localhost:8080/",
          "height": 35
        },
        "id": "hu39NXD-I0F4",
        "outputId": "978a3e8a-f2a0-4d80-f410-54b9457ccf7f"
      },
      "execution_count": 24,
      "outputs": [
        {
          "output_type": "execute_result",
          "data": {
            "text/plain": [
              "'Lif'"
            ],
            "application/vnd.google.colaboratory.intrinsic+json": {
              "type": "string"
            }
          },
          "metadata": {},
          "execution_count": 24
        }
      ]
    },
    {
      "cell_type": "markdown",
      "source": [
        "a[시작_번호:끝_번호]에서 끝 번호 부분을 생략하면 시작 번호부터 그 문자열의 끝까지 뽑아 냄\n",
        "---\n",
        "a[시작_번호:끝_번호]에서 시작 번호를 생략하면 문자열의 처음부터 끝 번호까지 뽑아 냄\n",
        "---\n",
        "a[시작_번호:끝_번호]에서 시작 번호와 끝 번호를 생략하면 문자열의 처음부터 끝까지 뽑아 냄\n",
        "---\n",
        "슬라이싱에서도 인덱싱과 마찬가지로 -(빼기) 기호를 사용할 수 있음\n",
        "---"
      ],
      "metadata": {
        "id": "Krlw4r9jJNMJ"
      }
    },
    {
      "cell_type": "code",
      "source": [
        "a = \"Life is too short, You need Python\"\n",
        "a[19:-7]\n",
        "#a[19:-7]은 a[19]에서 a[-8]까지를 의미한다. 이때에도 a[-7]은 포함하지 않음"
      ],
      "metadata": {
        "colab": {
          "base_uri": "https://localhost:8080/",
          "height": 35
        },
        "id": "6yW0EF4kJelD",
        "outputId": "c1a12523-6a38-4e2c-bfda-6dee8af23d2d"
      },
      "execution_count": 25,
      "outputs": [
        {
          "output_type": "execute_result",
          "data": {
            "text/plain": [
              "'You need'"
            ],
            "application/vnd.google.colaboratory.intrinsic+json": {
              "type": "string"
            }
          },
          "metadata": {},
          "execution_count": 25
        }
      ]
    },
    {
      "cell_type": "code",
      "source": [
        "a = \"20230331Rainy\"\n",
        "date = a[:8]\n",
        "weather = a[8:]\n",
        "print(date)\n",
        "print(weather)"
      ],
      "metadata": {
        "colab": {
          "base_uri": "https://localhost:8080/"
        },
        "id": "Nwh8lbkmJxu8",
        "outputId": "ff02ad41-8f92-421f-daf7-1407222b0163"
      },
      "execution_count": 28,
      "outputs": [
        {
          "output_type": "stream",
          "name": "stdout",
          "text": [
            "20230331\n",
            "Rainy\n"
          ]
        }
      ]
    },
    {
      "cell_type": "markdown",
      "source": [
        "문자열은 병경 불가능한 자료형\n",
        "---\n",
        "하지만 앞에서 배운 슬라이싱 기법을 사용하면 Pithon 문자열을 사용해 Python 문자열을 만들 수 있음\n",
        "\n",
        "a = \"Pithon\"\n",
        "\n",
        "a[:1]\n",
        "\n",
        "'P'\n",
        "\n",
        "a[2:]\n",
        "\n",
        "'thon'\n",
        "\n",
        "a[:1] + 'y' + a[2:]\n",
        "\n",
        "'Python'\n",
        "\n",
        "슬라이싱을 사용하면 \"Pithon\" 문자열을 'P' 부분과 'thon' 부분으로 나눌 수 있고, 그 사이에 'y' 문자를 추가하면 'Python'이라는 새로운 문자열을 만들 수 있음"
      ],
      "metadata": {
        "id": "-p9XC41kKNBO"
      }
    },
    {
      "cell_type": "code",
      "source": [
        "#문자열 포매팅\n",
        "#쉽게 말해 문자열 포매팅이란 문자열 안에 어떤 값을 삽입하는 방법\n",
        "\n",
        "#1. 숫자 바로 대입\n",
        "\"I eat %d apples.\" % 3\n",
        "# %d는 '문자열 포맷 코드'"
      ],
      "metadata": {
        "colab": {
          "base_uri": "https://localhost:8080/",
          "height": 35
        },
        "id": "0ToGFP8zUhxC",
        "outputId": "1a734e57-8f35-4808-ef29-c4fc18ffe5c3"
      },
      "execution_count": 29,
      "outputs": [
        {
          "output_type": "execute_result",
          "data": {
            "text/plain": [
              "'I eat 3 apples.'"
            ],
            "application/vnd.google.colaboratory.intrinsic+json": {
              "type": "string"
            }
          },
          "metadata": {},
          "execution_count": 29
        }
      ]
    },
    {
      "cell_type": "code",
      "source": [
        "#2. 문자열 바로 대입\n",
        "\"I eat %s apples.\" % \"five\"\n",
        "# %d, 문자열을 넣기 위해서는 %s를 써야 한다"
      ],
      "metadata": {
        "colab": {
          "base_uri": "https://localhost:8080/",
          "height": 35
        },
        "id": "GWaEtjaqU0hT",
        "outputId": "a0819edc-2db0-429c-a4d6-3140fc07f17b"
      },
      "execution_count": 30,
      "outputs": [
        {
          "output_type": "execute_result",
          "data": {
            "text/plain": [
              "'I eat five apples.'"
            ],
            "application/vnd.google.colaboratory.intrinsic+json": {
              "type": "string"
            }
          },
          "metadata": {},
          "execution_count": 30
        }
      ]
    },
    {
      "cell_type": "code",
      "source": [
        "#3. 숫자 값을 나타내는 변수로 대입\n",
        "number = 3\n",
        "\"I eat %d apples.\" % number"
      ],
      "metadata": {
        "colab": {
          "base_uri": "https://localhost:8080/",
          "height": 35
        },
        "id": "dgvxD5CXVBrL",
        "outputId": "38870f1f-2c94-489b-e0c0-089e1afdf051"
      },
      "execution_count": 31,
      "outputs": [
        {
          "output_type": "execute_result",
          "data": {
            "text/plain": [
              "'I eat 3 apples.'"
            ],
            "application/vnd.google.colaboratory.intrinsic+json": {
              "type": "string"
            }
          },
          "metadata": {},
          "execution_count": 31
        }
      ]
    },
    {
      "cell_type": "code",
      "source": [
        "#4. 2개 이상의 값 넣기\n",
        "number = 10\n",
        "day = \"three\"\n",
        "\"I ate %d apples. so I was sick for %s days.\" % (number, day)"
      ],
      "metadata": {
        "colab": {
          "base_uri": "https://localhost:8080/",
          "height": 35
        },
        "id": "U8243rHBVJer",
        "outputId": "cde709b8-c21f-448d-93c5-bc7c69dcd594"
      },
      "execution_count": 32,
      "outputs": [
        {
          "output_type": "execute_result",
          "data": {
            "text/plain": [
              "'I ate 10 apples. so I was sick for three days.'"
            ],
            "application/vnd.google.colaboratory.intrinsic+json": {
              "type": "string"
            }
          },
          "metadata": {},
          "execution_count": 32
        }
      ]
    },
    {
      "cell_type": "markdown",
      "source": [
        "문자열 포맷 코드\n",
        "---\n",
        "코드\t설명\n",
        "---\n",
        "%s\t문자열(String)\n",
        "\n",
        "** 어떤 형태의 값이든 변환해 넣을 수 있다.\n",
        "\n",
        "%c\t문자 1개(character)\n",
        "\n",
        "%d\t정수(Integer)\n",
        "\n",
        "%f\t부동소수(floating-point)\n",
        "\n",
        "%o\t8진수\n",
        "\n",
        "%x\t16진수\n",
        "\n",
        "%%\tLiteral % (문자 % 자체)\n",
        "\n"
      ],
      "metadata": {
        "id": "HNw5ht2-VSTN"
      }
    }
  ]
}
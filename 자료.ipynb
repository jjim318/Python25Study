{
  "nbformat": 4,
  "nbformat_minor": 0,
  "metadata": {
    "colab": {
      "provenance": [],
      "authorship_tag": "ABX9TyNJRB7RnBoucr6IYTLeupQ+",
      "include_colab_link": true
    },
    "kernelspec": {
      "name": "python3",
      "display_name": "Python 3"
    },
    "language_info": {
      "name": "python"
    }
  },
  "cells": [
    {
      "cell_type": "markdown",
      "metadata": {
        "id": "view-in-github",
        "colab_type": "text"
      },
      "source": [
        "<a href=\"https://colab.research.google.com/github/jjim318/Python25Study/blob/master/%EC%9E%90%EB%A3%8C.ipynb\" target=\"_parent\"><img src=\"https://colab.research.google.com/assets/colab-badge.svg\" alt=\"Open In Colab\"/></a>"
      ]
    },
    {
      "cell_type": "code",
      "execution_count": null,
      "metadata": {
        "id": "nkR499HNysUG"
      },
      "outputs": [],
      "source": [
        "# 숫자형\n",
        "# number 타입: 정수\n",
        "\n",
        "a=123\n"
      ]
    },
    {
      "cell_type": "code",
      "source": [
        "#문자열\n",
        "#큰 따옴표, 작은 따옴표, 큰따옴표 연속 3개로 둘러싸기, 작은따옴표 연속 3개로 둘러싸기\n",
        "#같은 따옴표는 겹치면 안 됨\n",
        "\n",
        "food = \"Python's favorite food is perl\"\n",
        "say = '\"Python is very easy.\" he says.'\n",
        "\n",
        "#역슬래시를 사용하면 그 뒤에 따라오는 문자열은 기호의 의미가 아니게 됨\n",
        "\n",
        "food = 'Python\\'s favorite food is perl'\n",
        "say = \"\\\"Python is very easy.\\\" he says.\"\n",
        "print(food,say)\n"
      ],
      "metadata": {
        "colab": {
          "base_uri": "https://localhost:8080/"
        },
        "id": "RFzun-b2DnA5",
        "outputId": "8675c2a6-12b8-4011-c50c-f8fdbb90fca3"
      },
      "execution_count": 10,
      "outputs": [
        {
          "output_type": "stream",
          "name": "stdout",
          "text": [
            "Python's favorite food is perl \"Python is very easy.\" he says.\n"
          ]
        }
      ]
    },
    {
      "cell_type": "code",
      "source": [
        "#줄을 바꾸기 위해 이스케이프 코드 사용\n",
        "multiline = \"Life is too short\\nYou need python\"\n",
        "print(multiline)"
      ],
      "metadata": {
        "colab": {
          "base_uri": "https://localhost:8080/"
        },
        "id": "9wYuD8etFJyF",
        "outputId": "bfca37b4-d910-449d-f90c-216e399282b4"
      },
      "execution_count": 9,
      "outputs": [
        {
          "output_type": "stream",
          "name": "stdout",
          "text": [
            "Life is too short\n",
            "You need python\n"
          ]
        }
      ]
    },
    {
      "cell_type": "markdown",
      "source": [
        "코드\t설명\n",
        "---\n",
        "\\n\t문자열 안에서 줄을 바꿀 때 사용\n",
        "---\n",
        "\\t\t문자열 사이에 탭 간격을 줄 때 사용\n",
        "---\n",
        "\\\\\t\\를 그대로 표현할 때 사용\n",
        "---\n",
        "\\\\'\t작은따옴표(')를 그대로 표현할 때 사용\n",
        "---\n",
        "\\\\\"\t큰따옴표(\")를 그대로 표현할 때 사용\n",
        "---\n",
        "\\r\t캐리지 리턴(줄 바꿈 문자, 커서를 현재 줄의 가장 앞으로 이동)\n",
        "---\n",
        "\\f\t폼 피드(줄 바꿈 문자, 커서를 현재 줄의 다음 줄로 이동)\n",
        "---\n",
        "\\a\t벨 소리(출력할 때 PC 스피커에서 '삑' 소리가 난다)\n",
        "---\n",
        "\\b\t백 스페이스\n",
        "---\n",
        "\\000\t널 문자\n",
        "---\n",
        "\n",
        "\n",
        "\n"
      ],
      "metadata": {
        "id": "jpFEVAFeGmxF"
      }
    },
    {
      "cell_type": "code",
      "source": [
        "#연속된 작은따옴표 3개는 줄 바꿀 수 있음\n",
        "multiline='''\n",
        "Life is too short\n",
        "You need python\n",
        "'''\n",
        "print(multiline)"
      ],
      "metadata": {
        "colab": {
          "base_uri": "https://localhost:8080/"
        },
        "id": "q7qOrdgOFuao",
        "outputId": "706a084a-0354-4a33-e00a-d32e3b11aabd"
      },
      "execution_count": 8,
      "outputs": [
        {
          "output_type": "stream",
          "name": "stdout",
          "text": [
            "\n",
            "Life is too short\n",
            "You need python\n",
            "\n"
          ]
        }
      ]
    },
    {
      "cell_type": "code",
      "source": [
        "#연속된 큰따옴표 3개는 줄 바꿀 수 있음\n",
        "multiline=\"\"\"\n",
        "Life is too short\n",
        "You need python\n",
        "\"\"\"\n",
        "print(multiline)"
      ],
      "metadata": {
        "colab": {
          "base_uri": "https://localhost:8080/"
        },
        "id": "-A79-Uo9F64S",
        "outputId": "abc85aa7-d742-49b7-81d6-5ebd6ee8dc82"
      },
      "execution_count": 11,
      "outputs": [
        {
          "output_type": "stream",
          "name": "stdout",
          "text": [
            "\n",
            "Life is too short\n",
            "You need python\n",
            "\n"
          ]
        }
      ]
    },
    {
      "cell_type": "code",
      "source": [
        "#문자열 연산\n",
        "head = \"Python\"\n",
        "tail = \" is fun!\"\n",
        "head + tail"
      ],
      "metadata": {
        "colab": {
          "base_uri": "https://localhost:8080/",
          "height": 35
        },
        "id": "5fqvbn5nHUDw",
        "outputId": "ea05e683-ee66-4244-d4d3-4f41c5bf38aa"
      },
      "execution_count": 12,
      "outputs": [
        {
          "output_type": "execute_result",
          "data": {
            "text/plain": [
              "'Python is fun!'"
            ],
            "application/vnd.google.colaboratory.intrinsic+json": {
              "type": "string"
            }
          },
          "metadata": {},
          "execution_count": 12
        }
      ]
    },
    {
      "cell_type": "code",
      "source": [
        "#문자열 곱하기\n",
        "a = \"python\"\n",
        "a * 2"
      ],
      "metadata": {
        "colab": {
          "base_uri": "https://localhost:8080/",
          "height": 35
        },
        "id": "TFezYXboHcf5",
        "outputId": "c52a4ea5-ab9c-465a-9280-0065415a878b"
      },
      "execution_count": 13,
      "outputs": [
        {
          "output_type": "execute_result",
          "data": {
            "text/plain": [
              "'pythonpython'"
            ],
            "application/vnd.google.colaboratory.intrinsic+json": {
              "type": "string"
            }
          },
          "metadata": {},
          "execution_count": 13
        }
      ]
    },
    {
      "cell_type": "code",
      "source": [
        "#문자열 곱하기 응용\n",
        "print(\"=\" * 50)\n",
        "print(\"My Program\")\n",
        "print(\"=\" * 50)"
      ],
      "metadata": {
        "colab": {
          "base_uri": "https://localhost:8080/"
        },
        "id": "E4McoQcyHjOB",
        "outputId": "f25a19b4-bdb4-4f11-f4bf-daa331fe26e4"
      },
      "execution_count": 14,
      "outputs": [
        {
          "output_type": "stream",
          "name": "stdout",
          "text": [
            "==================================================\n",
            "My Program\n",
            "==================================================\n"
          ]
        }
      ]
    },
    {
      "cell_type": "code",
      "source": [
        "#문자열 길이 구하기\n",
        "#문자열의 길이에는 공백 문자도 포함\n",
        "a = \"Life is too short\"\n",
        "len(a)"
      ],
      "metadata": {
        "colab": {
          "base_uri": "https://localhost:8080/"
        },
        "id": "aZxvkmeqHqSq",
        "outputId": "ce157d95-97f9-43a4-d9a8-180cfef7375c"
      },
      "execution_count": 15,
      "outputs": [
        {
          "output_type": "execute_result",
          "data": {
            "text/plain": [
              "17"
            ]
          },
          "metadata": {},
          "execution_count": 15
        }
      ]
    },
    {
      "cell_type": "code",
      "source": [
        "#문자열 인덱싱\n",
        "#인덱싱(indexing)이란 무엇인가를 '가리킨다'라는 의미\n",
        "a = \"Life is too short, You need Python\"\n",
        "a[3]"
      ],
      "metadata": {
        "colab": {
          "base_uri": "https://localhost:8080/",
          "height": 35
        },
        "id": "gj6d8v66Hy6a",
        "outputId": "2c8822fb-42d7-421f-c35c-58d682be41bb"
      },
      "execution_count": 21,
      "outputs": [
        {
          "output_type": "execute_result",
          "data": {
            "text/plain": [
              "'e'"
            ],
            "application/vnd.google.colaboratory.intrinsic+json": {
              "type": "string"
            }
          },
          "metadata": {},
          "execution_count": 21
        }
      ]
    },
    {
      "cell_type": "code",
      "source": [
        "#추가 예시\n",
        "a = \"Life is too short, You need Python\"\n",
        "a[-1]\n",
        "#a[-1]은 뒤에서부터 세어 첫 번째가 되는 문자를 말함\n",
        "#a[-0]라고 하지 않는 이유는 0과 -0은 똑같은 것이기 때문"
      ],
      "metadata": {
        "colab": {
          "base_uri": "https://localhost:8080/",
          "height": 35
        },
        "id": "E_lpKjYTH-P0",
        "outputId": "2d6aeef2-8b1b-456d-c748-d1ebd06fe31e"
      },
      "execution_count": 20,
      "outputs": [
        {
          "output_type": "execute_result",
          "data": {
            "text/plain": [
              "'n'"
            ],
            "application/vnd.google.colaboratory.intrinsic+json": {
              "type": "string"
            }
          },
          "metadata": {},
          "execution_count": 20
        }
      ]
    },
    {
      "cell_type": "code",
      "source": [
        "#문자열 슬라이싱\n",
        "#슬라이싱(slicing)은 무엇인가를 '잘라 낸다'라는 의미\n",
        "a = \"Life is too short, You need Python\"\n",
        "b = a[0] + a[1] + a[2] + a[3]\n",
        "b"
      ],
      "metadata": {
        "colab": {
          "base_uri": "https://localhost:8080/",
          "height": 35
        },
        "id": "C4842IOVIY-u",
        "outputId": "03c8d80c-17ce-42cc-8f7d-063d4c334fcb"
      },
      "execution_count": 19,
      "outputs": [
        {
          "output_type": "execute_result",
          "data": {
            "text/plain": [
              "'Life'"
            ],
            "application/vnd.google.colaboratory.intrinsic+json": {
              "type": "string"
            }
          },
          "metadata": {},
          "execution_count": 19
        }
      ]
    },
    {
      "cell_type": "code",
      "source": [
        "a = \"Life is too short, You need Python\"\n",
        "a[0:4]\n",
        "#문자열에서 자리 번호 0부터 4까지의 문자를 뽑아 낸다는 뜻"
      ],
      "metadata": {
        "colab": {
          "base_uri": "https://localhost:8080/",
          "height": 35
        },
        "id": "ZqtYxsVGInRX",
        "outputId": "ab6d90f4-3b72-44f7-e48f-3e596f0d3f5f"
      },
      "execution_count": 22,
      "outputs": [
        {
          "output_type": "execute_result",
          "data": {
            "text/plain": [
              "'Life'"
            ],
            "application/vnd.google.colaboratory.intrinsic+json": {
              "type": "string"
            }
          },
          "metadata": {},
          "execution_count": 22
        }
      ]
    },
    {
      "cell_type": "code",
      "source": [
        "a = \"Life is too short, You need Python\"\n",
        "a[0:3]\n",
        "#슬라이싱 기법으로 a[시작_번호:끝_번호]를 지정할 때\n",
        "#끝 번호에 해당하는 문자는 포함하지 않기 때문\n",
        "#a[0:3]을 수식으로 나타내면\n",
        "# 0 <= a < 3"
      ],
      "metadata": {
        "colab": {
          "base_uri": "https://localhost:8080/",
          "height": 35
        },
        "id": "hu39NXD-I0F4",
        "outputId": "978a3e8a-f2a0-4d80-f410-54b9457ccf7f"
      },
      "execution_count": 24,
      "outputs": [
        {
          "output_type": "execute_result",
          "data": {
            "text/plain": [
              "'Lif'"
            ],
            "application/vnd.google.colaboratory.intrinsic+json": {
              "type": "string"
            }
          },
          "metadata": {},
          "execution_count": 24
        }
      ]
    },
    {
      "cell_type": "markdown",
      "source": [
        "a[시작_번호:끝_번호]에서 끝 번호 부분을 생략하면 시작 번호부터 그 문자열의 끝까지 뽑아 냄\n",
        "---\n",
        "a[시작_번호:끝_번호]에서 시작 번호를 생략하면 문자열의 처음부터 끝 번호까지 뽑아 냄\n",
        "---\n",
        "a[시작_번호:끝_번호]에서 시작 번호와 끝 번호를 생략하면 문자열의 처음부터 끝까지 뽑아 냄\n",
        "---\n",
        "슬라이싱에서도 인덱싱과 마찬가지로 -(빼기) 기호를 사용할 수 있음\n",
        "---"
      ],
      "metadata": {
        "id": "Krlw4r9jJNMJ"
      }
    },
    {
      "cell_type": "code",
      "source": [
        "a = \"Life is too short, You need Python\"\n",
        "a[19:-7]\n",
        "#a[19:-7]은 a[19]에서 a[-8]까지를 의미한다. 이때에도 a[-7]은 포함하지 않음"
      ],
      "metadata": {
        "colab": {
          "base_uri": "https://localhost:8080/",
          "height": 35
        },
        "id": "6yW0EF4kJelD",
        "outputId": "c1a12523-6a38-4e2c-bfda-6dee8af23d2d"
      },
      "execution_count": 25,
      "outputs": [
        {
          "output_type": "execute_result",
          "data": {
            "text/plain": [
              "'You need'"
            ],
            "application/vnd.google.colaboratory.intrinsic+json": {
              "type": "string"
            }
          },
          "metadata": {},
          "execution_count": 25
        }
      ]
    },
    {
      "cell_type": "code",
      "source": [
        "a = \"20230331Rainy\"\n",
        "date = a[:8]\n",
        "weather = a[8:]\n",
        "print(date)\n",
        "print(weather)"
      ],
      "metadata": {
        "colab": {
          "base_uri": "https://localhost:8080/"
        },
        "id": "Nwh8lbkmJxu8",
        "outputId": "ff02ad41-8f92-421f-daf7-1407222b0163"
      },
      "execution_count": 28,
      "outputs": [
        {
          "output_type": "stream",
          "name": "stdout",
          "text": [
            "20230331\n",
            "Rainy\n"
          ]
        }
      ]
    },
    {
      "cell_type": "markdown",
      "source": [
        "문자열은 병경 불가능한 자료형\n",
        "---\n",
        "하지만 앞에서 배운 슬라이싱 기법을 사용하면 Pithon 문자열을 사용해 Python 문자열을 만들 수 있음\n",
        "\n",
        "a = \"Pithon\"\n",
        "\n",
        "a[:1]\n",
        "\n",
        "'P'\n",
        "\n",
        "a[2:]\n",
        "\n",
        "'thon'\n",
        "\n",
        "a[:1] + 'y' + a[2:]\n",
        "\n",
        "'Python'\n",
        "\n",
        "슬라이싱을 사용하면 \"Pithon\" 문자열을 'P' 부분과 'thon' 부분으로 나눌 수 있고, 그 사이에 'y' 문자를 추가하면 'Python'이라는 새로운 문자열을 만들 수 있음"
      ],
      "metadata": {
        "id": "-p9XC41kKNBO"
      }
    },
    {
      "cell_type": "code",
      "source": [
        "#문자열 포매팅\n",
        "#쉽게 말해 문자열 포매팅이란 문자열 안에 어떤 값을 삽입하는 방법\n",
        "\n",
        "#1. 숫자 바로 대입\n",
        "\"I eat %d apples.\" % 3\n",
        "# %d는 '문자열 포맷 코드'"
      ],
      "metadata": {
        "colab": {
          "base_uri": "https://localhost:8080/",
          "height": 35
        },
        "id": "0ToGFP8zUhxC",
        "outputId": "1a734e57-8f35-4808-ef29-c4fc18ffe5c3"
      },
      "execution_count": 29,
      "outputs": [
        {
          "output_type": "execute_result",
          "data": {
            "text/plain": [
              "'I eat 3 apples.'"
            ],
            "application/vnd.google.colaboratory.intrinsic+json": {
              "type": "string"
            }
          },
          "metadata": {},
          "execution_count": 29
        }
      ]
    },
    {
      "cell_type": "code",
      "source": [
        "#2. 문자열 바로 대입\n",
        "\"I eat %s apples.\" % \"five\"\n",
        "# %d, 문자열을 넣기 위해서는 %s를 써야 한다"
      ],
      "metadata": {
        "colab": {
          "base_uri": "https://localhost:8080/",
          "height": 35
        },
        "id": "GWaEtjaqU0hT",
        "outputId": "a0819edc-2db0-429c-a4d6-3140fc07f17b"
      },
      "execution_count": 30,
      "outputs": [
        {
          "output_type": "execute_result",
          "data": {
            "text/plain": [
              "'I eat five apples.'"
            ],
            "application/vnd.google.colaboratory.intrinsic+json": {
              "type": "string"
            }
          },
          "metadata": {},
          "execution_count": 30
        }
      ]
    },
    {
      "cell_type": "code",
      "source": [
        "#3. 숫자 값을 나타내는 변수로 대입\n",
        "number = 3\n",
        "\"I eat %d apples.\" % number"
      ],
      "metadata": {
        "colab": {
          "base_uri": "https://localhost:8080/",
          "height": 35
        },
        "id": "dgvxD5CXVBrL",
        "outputId": "38870f1f-2c94-489b-e0c0-089e1afdf051"
      },
      "execution_count": 31,
      "outputs": [
        {
          "output_type": "execute_result",
          "data": {
            "text/plain": [
              "'I eat 3 apples.'"
            ],
            "application/vnd.google.colaboratory.intrinsic+json": {
              "type": "string"
            }
          },
          "metadata": {},
          "execution_count": 31
        }
      ]
    },
    {
      "cell_type": "code",
      "source": [
        "#4. 2개 이상의 값 넣기\n",
        "number = 10\n",
        "day = \"three\"\n",
        "\"I ate %d apples. so I was sick for %s days.\" % (number, day)"
      ],
      "metadata": {
        "colab": {
          "base_uri": "https://localhost:8080/",
          "height": 35
        },
        "id": "U8243rHBVJer",
        "outputId": "cde709b8-c21f-448d-93c5-bc7c69dcd594"
      },
      "execution_count": 32,
      "outputs": [
        {
          "output_type": "execute_result",
          "data": {
            "text/plain": [
              "'I ate 10 apples. so I was sick for three days.'"
            ],
            "application/vnd.google.colaboratory.intrinsic+json": {
              "type": "string"
            }
          },
          "metadata": {},
          "execution_count": 32
        }
      ]
    },
    {
      "cell_type": "markdown",
      "source": [
        "문자열 포맷 코드\n",
        "---\n",
        "코드\t설명\n",
        "---\n",
        "%s\t문자열(String)\n",
        "\n",
        "** 어떤 형태의 값이든 변환해 넣을 수 있다.\n",
        "\n",
        "%c\t문자 1개(character)\n",
        "\n",
        "%d\t정수(Integer)\n",
        "\n",
        "%f\t부동소수(floating-point)\n",
        "\n",
        "%o\t8진수\n",
        "\n",
        "%x\t16진수\n",
        "\n",
        "%%\tLiteral % (문자 % 자체)\n",
        "\n"
      ],
      "metadata": {
        "id": "HNw5ht2-VSTN"
      }
    },
    {
      "cell_type": "code",
      "source": [
        "#포맷 코드와 숫자 함께 사용\n",
        "\n",
        "#1. 정렬과 공백\n",
        "\"%10s\" % \"hi\"\n",
        "\n",
        "#%10s는 전체 길이가 10개인 문자열 공간에서 대입되는 값을 오른쪽으로 정렬하고\n",
        "#그 앞의 나머지는 공백으로 남겨 두라는 의미\n",
        "#반대는 -를 붙힘\n",
        "\"%-10sjane.\" % 'hi'"
      ],
      "metadata": {
        "colab": {
          "base_uri": "https://localhost:8080/",
          "height": 35
        },
        "id": "8EB4fTup9CO_",
        "outputId": "2dc5febc-61a7-4907-ee35-e9b717b3fc2d"
      },
      "execution_count": 34,
      "outputs": [
        {
          "output_type": "execute_result",
          "data": {
            "text/plain": [
              "'hi        jane.'"
            ],
            "application/vnd.google.colaboratory.intrinsic+json": {
              "type": "string"
            }
          },
          "metadata": {},
          "execution_count": 34
        }
      ]
    },
    {
      "cell_type": "code",
      "source": [
        "#2. 소수점 표현하기\n",
        "\"%0.4f\" % 3.42134234\n",
        "\n",
        "#%0.4f에서 '.'는 소수점 포인트, 그 뒤의 숫자 4는 소수점 뒤에 나올 숫자의 개수\n",
        "#소수점 포인트 앞의 숫자는 문자열의 전체 길이를 의미\n",
        "#%0.4f에서 사용한 숫자 0은 길이에 상관하지 않겠다는 의미"
      ],
      "metadata": {
        "id": "kghsJCw4-BrX"
      },
      "execution_count": null,
      "outputs": []
    },
    {
      "cell_type": "code",
      "source": [
        "#format 함수를 사용한 포매팅\n",
        "#숫자 바로 대입\n",
        "\"I eat {0} apples\".format(3)"
      ],
      "metadata": {
        "colab": {
          "base_uri": "https://localhost:8080/",
          "height": 35
        },
        "id": "ERULqDJl-TxW",
        "outputId": "dd6d7a03-dc37-40b8-e3d6-2b1784f01841"
      },
      "execution_count": 35,
      "outputs": [
        {
          "output_type": "execute_result",
          "data": {
            "text/plain": [
              "'I eat 3 apples'"
            ],
            "application/vnd.google.colaboratory.intrinsic+json": {
              "type": "string"
            }
          },
          "metadata": {},
          "execution_count": 35
        }
      ]
    },
    {
      "cell_type": "code",
      "source": [
        "#문자열 바로 대입\n",
        "\"I eat {0} apples\".format(\"five\")"
      ],
      "metadata": {
        "colab": {
          "base_uri": "https://localhost:8080/",
          "height": 35
        },
        "id": "5z_hD6RF-bq-",
        "outputId": "77d7080c-7f61-47cc-9e92-fac87fcbd22a"
      },
      "execution_count": 36,
      "outputs": [
        {
          "output_type": "execute_result",
          "data": {
            "text/plain": [
              "'I eat five apples'"
            ],
            "application/vnd.google.colaboratory.intrinsic+json": {
              "type": "string"
            }
          },
          "metadata": {},
          "execution_count": 36
        }
      ]
    },
    {
      "cell_type": "code",
      "source": [
        "#숫자 값을 가진 변수로 대입\n",
        "number = 3\n",
        "\"I eat {0} apples\".format(number)"
      ],
      "metadata": {
        "colab": {
          "base_uri": "https://localhost:8080/",
          "height": 35
        },
        "id": "rehoocRV-hf-",
        "outputId": "3602bc76-91ab-41f2-afe0-4b44c81e2312"
      },
      "execution_count": 37,
      "outputs": [
        {
          "output_type": "execute_result",
          "data": {
            "text/plain": [
              "'I eat 3 apples'"
            ],
            "application/vnd.google.colaboratory.intrinsic+json": {
              "type": "string"
            }
          },
          "metadata": {},
          "execution_count": 37
        }
      ]
    },
    {
      "cell_type": "code",
      "source": [
        "#2개 이상의 값 넣기\n",
        "number = 10\n",
        "day = \"three\"\n",
        "\"I ate {0} apples. so I was sick for {1} days.\".format(number, day)"
      ],
      "metadata": {
        "colab": {
          "base_uri": "https://localhost:8080/",
          "height": 35
        },
        "id": "bGzzn5Ju-nRq",
        "outputId": "32e5ef9b-e9d7-4aaf-f762-356c37ed3a85"
      },
      "execution_count": 39,
      "outputs": [
        {
          "output_type": "execute_result",
          "data": {
            "text/plain": [
              "'I ate 10 apples. so I was sick for three days.'"
            ],
            "application/vnd.google.colaboratory.intrinsic+json": {
              "type": "string"
            }
          },
          "metadata": {},
          "execution_count": 39
        }
      ]
    },
    {
      "cell_type": "code",
      "source": [
        "#이름으로 넣기\n",
        "\"I ate {number} apples. so I was sick for {day} days.\".format(number=10, day=3)"
      ],
      "metadata": {
        "colab": {
          "base_uri": "https://localhost:8080/",
          "height": 35
        },
        "id": "fmTbJleX-zjX",
        "outputId": "30e9190f-4154-4d2b-81d2-8a184149dc2b"
      },
      "execution_count": 40,
      "outputs": [
        {
          "output_type": "execute_result",
          "data": {
            "text/plain": [
              "'I ate 10 apples. so I was sick for 3 days.'"
            ],
            "application/vnd.google.colaboratory.intrinsic+json": {
              "type": "string"
            }
          },
          "metadata": {},
          "execution_count": 40
        }
      ]
    },
    {
      "cell_type": "code",
      "source": [
        "#인덱스와 이름을 혼용해서 넣기\n",
        "\"I ate {0} apples. so I was sick for {day} days.\".format(10, day=3)"
      ],
      "metadata": {
        "colab": {
          "base_uri": "https://localhost:8080/",
          "height": 35
        },
        "id": "dTJLX3uv-3gg",
        "outputId": "f756f027-6e5f-4bb2-8518-cb9b5ac71fa4"
      },
      "execution_count": 41,
      "outputs": [
        {
          "output_type": "execute_result",
          "data": {
            "text/plain": [
              "'I ate 10 apples. so I was sick for 3 days.'"
            ],
            "application/vnd.google.colaboratory.intrinsic+json": {
              "type": "string"
            }
          },
          "metadata": {},
          "execution_count": 41
        }
      ]
    },
    {
      "cell_type": "code",
      "source": [
        "#왼쪽 정렬\n",
        "\"{0:<10}\".format(\"hi\")"
      ],
      "metadata": {
        "colab": {
          "base_uri": "https://localhost:8080/",
          "height": 35
        },
        "id": "2lLBUBsU--3_",
        "outputId": "6c5b2ae4-a543-4c40-aa0e-cd5f2931f321"
      },
      "execution_count": 42,
      "outputs": [
        {
          "output_type": "execute_result",
          "data": {
            "text/plain": [
              "'hi        '"
            ],
            "application/vnd.google.colaboratory.intrinsic+json": {
              "type": "string"
            }
          },
          "metadata": {},
          "execution_count": 42
        }
      ]
    },
    {
      "cell_type": "code",
      "source": [
        "#오른쪽 정렬\n",
        "\"{0:>10}\".format(\"hi\")"
      ],
      "metadata": {
        "colab": {
          "base_uri": "https://localhost:8080/",
          "height": 35
        },
        "id": "6F79b9BW_DgA",
        "outputId": "108526e0-2ee3-4f0d-99ba-00e48616c492"
      },
      "execution_count": 43,
      "outputs": [
        {
          "output_type": "execute_result",
          "data": {
            "text/plain": [
              "'        hi'"
            ],
            "application/vnd.google.colaboratory.intrinsic+json": {
              "type": "string"
            }
          },
          "metadata": {},
          "execution_count": 43
        }
      ]
    },
    {
      "cell_type": "code",
      "source": [
        "#가운데 정렬\n",
        "\"{0:^10}\".format(\"hi\")"
      ],
      "metadata": {
        "colab": {
          "base_uri": "https://localhost:8080/",
          "height": 35
        },
        "id": "CQ4HKld-_IIf",
        "outputId": "bcadc456-1f8e-4d09-a082-05ecef65553c"
      },
      "execution_count": 44,
      "outputs": [
        {
          "output_type": "execute_result",
          "data": {
            "text/plain": [
              "'    hi    '"
            ],
            "application/vnd.google.colaboratory.intrinsic+json": {
              "type": "string"
            }
          },
          "metadata": {},
          "execution_count": 44
        }
      ]
    },
    {
      "cell_type": "code",
      "source": [
        "#공백 채우기\n",
        "\"{0:=^10}\".format(\"hi\")"
      ],
      "metadata": {
        "colab": {
          "base_uri": "https://localhost:8080/",
          "height": 35
        },
        "id": "7XHs5HuJ_MAp",
        "outputId": "adb1c95d-7f47-41f7-8f61-4cda156f2106"
      },
      "execution_count": 45,
      "outputs": [
        {
          "output_type": "execute_result",
          "data": {
            "text/plain": [
              "'====hi===='"
            ],
            "application/vnd.google.colaboratory.intrinsic+json": {
              "type": "string"
            }
          },
          "metadata": {},
          "execution_count": 45
        }
      ]
    },
    {
      "cell_type": "code",
      "source": [
        "#소수점 표현하기\n",
        "y = 3.42134234\n",
        "\"{0:0.4f}\".format(y)\n",
        "#\"{0:10.4f}\".format(y)\n",
        "#이 방식도 있음"
      ],
      "metadata": {
        "colab": {
          "base_uri": "https://localhost:8080/",
          "height": 35
        },
        "id": "sOFeeSizMSTw",
        "outputId": "7c241f02-aa38-4bcb-e278-6a1720ee4f0f"
      },
      "execution_count": 48,
      "outputs": [
        {
          "output_type": "execute_result",
          "data": {
            "text/plain": [
              "'3.4213'"
            ],
            "application/vnd.google.colaboratory.intrinsic+json": {
              "type": "string"
            }
          },
          "metadata": {},
          "execution_count": 48
        }
      ]
    },
    {
      "cell_type": "code",
      "source": [
        "#{ 또는 } 문자 표현\n",
        "\"{{ and }}\".format()"
      ],
      "metadata": {
        "colab": {
          "base_uri": "https://localhost:8080/",
          "height": 35
        },
        "id": "HfZz6tAsMugA",
        "outputId": "da3e3d8e-6ff2-498d-d1b2-c6bc80def885"
      },
      "execution_count": 47,
      "outputs": [
        {
          "output_type": "execute_result",
          "data": {
            "text/plain": [
              "'{ and }'"
            ],
            "application/vnd.google.colaboratory.intrinsic+json": {
              "type": "string"
            }
          },
          "metadata": {},
          "execution_count": 47
        }
      ]
    },
    {
      "cell_type": "code",
      "source": [
        "#f 문자열 포매팅\n",
        "#파이썬 3.6 미만 버전에서는 사용할 수 없는 기능이므로 주의\n",
        "name = '홍길동'\n",
        "age = 30\n",
        "f'나의 이름은 {name}입니다. 나이는 {age}입니다.'\n",
        "'나의 이름은 홍길동입니다. 나이는 30입니다.'"
      ],
      "metadata": {
        "colab": {
          "base_uri": "https://localhost:8080/",
          "height": 35
        },
        "id": "gJ9vtSZiM1T5",
        "outputId": "266fced8-f9ca-404c-f50a-c0bd50c0ebd1"
      },
      "execution_count": 50,
      "outputs": [
        {
          "output_type": "execute_result",
          "data": {
            "text/plain": [
              "'나의 이름은 홍길동입니다. 나이는 30입니다.'"
            ],
            "application/vnd.google.colaboratory.intrinsic+json": {
              "type": "string"
            }
          },
          "metadata": {},
          "execution_count": 50
        }
      ]
    },
    {
      "cell_type": "code",
      "source": [
        "#표현식이란 중괄호 안의 변수를 계산식과 함께 사용하는 것을 말한다.\n",
        "age = 30\n",
        "f'나는 내년이면 {age + 1}살이 된다.'\n",
        "'나는 내년이면 31살이 된다.'"
      ],
      "metadata": {
        "colab": {
          "base_uri": "https://localhost:8080/",
          "height": 35
        },
        "id": "TXh9ZkfUNSVg",
        "outputId": "8333b2a4-7fc0-4866-c418-0721a977c6ff"
      },
      "execution_count": 51,
      "outputs": [
        {
          "output_type": "execute_result",
          "data": {
            "text/plain": [
              "'나는 내년이면 31살이 된다.'"
            ],
            "application/vnd.google.colaboratory.intrinsic+json": {
              "type": "string"
            }
          },
          "metadata": {},
          "execution_count": 51
        }
      ]
    },
    {
      "cell_type": "code",
      "source": [
        "#딕셔너리는 f 문자열 포매팅에서 다음과 같이 사용할 수 있다.\n",
        "d = {'name':'홍길동', 'age':30}\n",
        "f'나의 이름은 {d[\"name\"]}입니다. 나이는 {d[\"age\"]}입니다.'\n",
        "'나의 이름은 홍길동입니다. 나이는 30입니다.'\n",
        "\n",
        "#딕셔너리는 Key와 Value라는 것을 한 쌍으로 가지는 자료형"
      ],
      "metadata": {
        "colab": {
          "base_uri": "https://localhost:8080/",
          "height": 35
        },
        "id": "jE-DNVdeNZov",
        "outputId": "b34fb81d-b76d-467d-a21a-30fa699eaad2"
      },
      "execution_count": 52,
      "outputs": [
        {
          "output_type": "execute_result",
          "data": {
            "text/plain": [
              "'나의 이름은 홍길동입니다. 나이는 30입니다.'"
            ],
            "application/vnd.google.colaboratory.intrinsic+json": {
              "type": "string"
            }
          },
          "metadata": {},
          "execution_count": 52
        }
      ]
    },
    {
      "cell_type": "code",
      "source": [
        "#f 문자열을 사용하여 금액에 콤마(,) 삽입하기\n",
        "# f 문자열을 활용하면 숫자에 자동으로 콤마(,)를 삽입하여 가독성을 높일 수 있다.\n",
        "f\"난 {1500000:,}원이 필요해\""
      ],
      "metadata": {
        "colab": {
          "base_uri": "https://localhost:8080/",
          "height": 35
        },
        "id": "lY0hL0eFNmB3",
        "outputId": "5d8def81-b421-481b-b859-e5c1eaf88ed6"
      },
      "execution_count": 53,
      "outputs": [
        {
          "output_type": "execute_result",
          "data": {
            "text/plain": [
              "'난 1,500,000원이 필요해'"
            ],
            "application/vnd.google.colaboratory.intrinsic+json": {
              "type": "string"
            }
          },
          "metadata": {},
          "execution_count": 53
        }
      ]
    },
    {
      "cell_type": "code",
      "source": [
        "#문자 개수 세기 - count\n",
        "a = \"hobby\"\n",
        "a.count('b')"
      ],
      "metadata": {
        "colab": {
          "base_uri": "https://localhost:8080/"
        },
        "id": "THOMkDL-NukP",
        "outputId": "c8f99db2-7c5f-4c4e-8d2c-b3b5fafad500"
      },
      "execution_count": 54,
      "outputs": [
        {
          "output_type": "execute_result",
          "data": {
            "text/plain": [
              "2"
            ]
          },
          "metadata": {},
          "execution_count": 54
        }
      ]
    },
    {
      "cell_type": "code",
      "source": [
        "#위치 알려 주기 1 - find\n",
        "a = \"Python is the best choice\"\n",
        "a.find('b')\n",
        "\n",
        "# 만약 찾는 문자나 문자열이 존재하지 않는다면 -1을 반환"
      ],
      "metadata": {
        "colab": {
          "base_uri": "https://localhost:8080/"
        },
        "id": "4qxb5sb9N0pP",
        "outputId": "b8838755-984b-4e2a-e140-e5020c92105b"
      },
      "execution_count": 55,
      "outputs": [
        {
          "output_type": "execute_result",
          "data": {
            "text/plain": [
              "14"
            ]
          },
          "metadata": {},
          "execution_count": 55
        }
      ]
    },
    {
      "cell_type": "code",
      "source": [
        "#위치 알려 주기 2 - index\n",
        "a = \"Life is too short\"\n",
        "a.index('t')\n",
        "\n",
        "#만약 찾는 문자나 문자열이 존재하지 않는다면 오류가 발생한다.\n",
        "#앞의 find 함수와 다른 점은 문자열 안에 존재하지 않는 문자를 찾으면 오류가 발생한다는 것"
      ],
      "metadata": {
        "colab": {
          "base_uri": "https://localhost:8080/"
        },
        "id": "Ry-VyGa_N_Lu",
        "outputId": "38eb4085-b147-426d-fcd2-b2a77886c755"
      },
      "execution_count": 56,
      "outputs": [
        {
          "output_type": "execute_result",
          "data": {
            "text/plain": [
              "8"
            ]
          },
          "metadata": {},
          "execution_count": 56
        }
      ]
    },
    {
      "cell_type": "code",
      "source": [
        "#문자열 삽입 - join\n",
        "\",\".join('abcd')"
      ],
      "metadata": {
        "colab": {
          "base_uri": "https://localhost:8080/",
          "height": 35
        },
        "id": "LeyPCzLQOLp4",
        "outputId": "537e43a5-431d-4a3d-ed2f-a907112e85c7"
      },
      "execution_count": 57,
      "outputs": [
        {
          "output_type": "execute_result",
          "data": {
            "text/plain": [
              "'a,b,c,d'"
            ],
            "application/vnd.google.colaboratory.intrinsic+json": {
              "type": "string"
            }
          },
          "metadata": {},
          "execution_count": 57
        }
      ]
    },
    {
      "cell_type": "code",
      "source": [
        "#소문자를 대문자로 바꾸기 - upper\n",
        "a = \"hi\"\n",
        "a.upper()"
      ],
      "metadata": {
        "colab": {
          "base_uri": "https://localhost:8080/",
          "height": 35
        },
        "id": "PbGOr0seORtP",
        "outputId": "af63e766-047c-4b1d-e528-d806ed9209ea"
      },
      "execution_count": 58,
      "outputs": [
        {
          "output_type": "execute_result",
          "data": {
            "text/plain": [
              "'HI'"
            ],
            "application/vnd.google.colaboratory.intrinsic+json": {
              "type": "string"
            }
          },
          "metadata": {},
          "execution_count": 58
        }
      ]
    },
    {
      "cell_type": "code",
      "source": [
        "#대문자를 소문자로 바꾸기 - lower\n",
        "a = \"HI\"\n",
        "a.lower()"
      ],
      "metadata": {
        "colab": {
          "base_uri": "https://localhost:8080/",
          "height": 35
        },
        "id": "MM1wbW4sOXIi",
        "outputId": "fc01d309-6705-4362-9a3f-3327f077f6fc"
      },
      "execution_count": 59,
      "outputs": [
        {
          "output_type": "execute_result",
          "data": {
            "text/plain": [
              "'hi'"
            ],
            "application/vnd.google.colaboratory.intrinsic+json": {
              "type": "string"
            }
          },
          "metadata": {},
          "execution_count": 59
        }
      ]
    },
    {
      "cell_type": "code",
      "source": [
        "#왼쪽 공백 지우기 - lstrip\n",
        "a = \" hi \"\n",
        "a.lstrip()"
      ],
      "metadata": {
        "colab": {
          "base_uri": "https://localhost:8080/",
          "height": 35
        },
        "id": "-vMfgFgiObzQ",
        "outputId": "680f7ea2-5b2b-443c-e9cf-d6b422ee9d3b"
      },
      "execution_count": 60,
      "outputs": [
        {
          "output_type": "execute_result",
          "data": {
            "text/plain": [
              "'hi '"
            ],
            "application/vnd.google.colaboratory.intrinsic+json": {
              "type": "string"
            }
          },
          "metadata": {},
          "execution_count": 60
        }
      ]
    },
    {
      "cell_type": "code",
      "source": [
        "#오른쪽 공백 지우기 - rstrip\n",
        "a = \" hi \"\n",
        "a.rstrip()"
      ],
      "metadata": {
        "colab": {
          "base_uri": "https://localhost:8080/",
          "height": 35
        },
        "id": "_VJr14qgOj6B",
        "outputId": "fbb6b7d0-82b8-4a3a-a6b3-8ebc09da353e"
      },
      "execution_count": 61,
      "outputs": [
        {
          "output_type": "execute_result",
          "data": {
            "text/plain": [
              "' hi'"
            ],
            "application/vnd.google.colaboratory.intrinsic+json": {
              "type": "string"
            }
          },
          "metadata": {},
          "execution_count": 61
        }
      ]
    },
    {
      "cell_type": "code",
      "source": [
        "#양쪽 공백 지우기 - strip\n",
        "a = \" hi \"\n",
        "a.strip()"
      ],
      "metadata": {
        "colab": {
          "base_uri": "https://localhost:8080/",
          "height": 35
        },
        "id": "vfS9Xu8dOqG5",
        "outputId": "c4baf394-bcc2-41a8-b7cb-2373ebe98bb8"
      },
      "execution_count": 62,
      "outputs": [
        {
          "output_type": "execute_result",
          "data": {
            "text/plain": [
              "'hi'"
            ],
            "application/vnd.google.colaboratory.intrinsic+json": {
              "type": "string"
            }
          },
          "metadata": {},
          "execution_count": 62
        }
      ]
    },
    {
      "cell_type": "code",
      "source": [
        "#문자열 바꾸기 - replace\n",
        "a = \"Life is too short\"\n",
        "a.replace(\"Life\", \"Your leg\")"
      ],
      "metadata": {
        "colab": {
          "base_uri": "https://localhost:8080/",
          "height": 35
        },
        "id": "llKtX61FOvef",
        "outputId": "4ad0fc1e-a711-481b-881d-1285beee22e6"
      },
      "execution_count": 63,
      "outputs": [
        {
          "output_type": "execute_result",
          "data": {
            "text/plain": [
              "'Your leg is too short'"
            ],
            "application/vnd.google.colaboratory.intrinsic+json": {
              "type": "string"
            }
          },
          "metadata": {},
          "execution_count": 63
        }
      ]
    },
    {
      "cell_type": "code",
      "source": [
        "#문자열 나누기 - split\n",
        "a = \"Life is too short\"\n",
        "a.split()\n",
        "\n",
        "#split 함수는 a.split()처럼 괄호 안에 아무 값도 넣어 주지 않으면\n",
        "#공백([Space], [Tab], [Enter])을 기준으로 문자열을 나누어 준다"
      ],
      "metadata": {
        "colab": {
          "base_uri": "https://localhost:8080/"
        },
        "id": "pqtPDZ0iO2dg",
        "outputId": "7217d281-e23d-40c5-ac6b-eb914f434a19"
      },
      "execution_count": 64,
      "outputs": [
        {
          "output_type": "execute_result",
          "data": {
            "text/plain": [
              "['Life', 'is', 'too', 'short']"
            ]
          },
          "metadata": {},
          "execution_count": 64
        }
      ]
    },
    {
      "cell_type": "code",
      "source": [
        "b = \"a:b:c:d\"\n",
        "b.split(':')\n",
        "#괄호 안의 값을 구분자로 해서 문자열을 나누어 준다"
      ],
      "metadata": {
        "id": "U7AbcVvEPDE_"
      },
      "execution_count": null,
      "outputs": []
    },
    {
      "cell_type": "code",
      "source": [
        "#문자열이 알파벳으로만 구성되어 있는지 확인하기 - isalpha\n",
        "s = \"Python\"\n",
        "s.isalpha()\n",
        "\n",
        "#영문 알파벳만 포함되어 있는 경우에만 True를 반환\n",
        "#공백이나 숫자, 특수 문자가 포함되어 있으면 False를 반환"
      ],
      "metadata": {
        "colab": {
          "base_uri": "https://localhost:8080/"
        },
        "id": "Q8KTem4ZPKR4",
        "outputId": "9c9fb131-7c03-487d-9978-68cb10c1a86a"
      },
      "execution_count": 1,
      "outputs": [
        {
          "output_type": "execute_result",
          "data": {
            "text/plain": [
              "True"
            ]
          },
          "metadata": {},
          "execution_count": 1
        }
      ]
    },
    {
      "cell_type": "code",
      "source": [
        "#문자열이 숫자로만 구성되어 있는지 확인하기 - isdigit\n",
        "s = \"12345\"\n",
        "s.isdigit()\n",
        "\n",
        "#문자열의 모든 문자가 숫자일 경우 True를 반환\n",
        "#하나라도 숫자가 아닌 문자가 포함되어 있으면 False를 반환\n",
        "#\"1234a\"는 알파벳 a가 포함되어 있어 False를 반환\n",
        "#\"12 34\"는 숫자 사이에 공백이 있으므로 False를 반환"
      ],
      "metadata": {
        "id": "mNwGOz_Ps_C2"
      },
      "execution_count": null,
      "outputs": []
    },
    {
      "cell_type": "code",
      "source": [
        "#문자열이 특정 문자(열)로 시작하는지 확인하기 - startswith\n",
        "s = \"Life is too short\"\n",
        "s.startswith(\"Life\")\n",
        "\n",
        "#지정한 문자열로 시작하면 True를 반환\n",
        "#그렇지 않으면 False를 반환"
      ],
      "metadata": {
        "colab": {
          "base_uri": "https://localhost:8080/"
        },
        "id": "VbfX0t9ls-TO",
        "outputId": "f2bf587c-5f08-492c-a513-ea280dd4d95e"
      },
      "execution_count": 2,
      "outputs": [
        {
          "output_type": "execute_result",
          "data": {
            "text/plain": [
              "True"
            ]
          },
          "metadata": {},
          "execution_count": 2
        }
      ]
    },
    {
      "cell_type": "code",
      "source": [
        "#문자열이 특정 문자(열)로 끝나는지 확인하기 - endswith\n",
        "s = \"Life is too short\"\n",
        "s.endswith(\"short\")\n",
        "\n",
        "#지정한 문자열로 끝나면 True를 반환\n",
        "#그렇지 않으면 False를 반환"
      ],
      "metadata": {
        "colab": {
          "base_uri": "https://localhost:8080/"
        },
        "id": "1GXhhbvAtW5R",
        "outputId": "f35db744-25e4-4810-f261-a4c420d4c7eb"
      },
      "execution_count": 3,
      "outputs": [
        {
          "output_type": "execute_result",
          "data": {
            "text/plain": [
              "True"
            ]
          },
          "metadata": {},
          "execution_count": 3
        }
      ]
    },
    {
      "cell_type": "markdown",
      "source": [
        "문자열 관련 함수는 문자열 처리에서 사용 빈도가 매우 높고 유용"
      ],
      "metadata": {
        "id": "XbD3WbnAtjBt"
      }
    },
    {
      "cell_type": "code",
      "source": [
        "#리스트의 인덱싱(삼중 구조의 리스트)\n",
        "a = [1, 2, ['a', 'b', ['Life', 'is']]]\n",
        "a[2][2][0]\n",
        "\n",
        "#리스트 a의 세 번째 요소인 리스트 ['a', 'b', ['Life', 'is']]에서\n",
        "#세 번째 요소인 리스트 ['Life', 'is']의 첫 번째 요소\n",
        "#리스트를 다중으로 중첩해서 사용하는 것은 혼란스럽기 때문에 자주 사용하지는 않는다"
      ],
      "metadata": {
        "colab": {
          "base_uri": "https://localhost:8080/",
          "height": 35
        },
        "id": "hDkP6efXtttW",
        "outputId": "a4deeb0c-71a6-4ac9-be58-a0de93c3408c"
      },
      "execution_count": 5,
      "outputs": [
        {
          "output_type": "execute_result",
          "data": {
            "text/plain": [
              "'Life'"
            ],
            "application/vnd.google.colaboratory.intrinsic+json": {
              "type": "string"
            }
          },
          "metadata": {},
          "execution_count": 5
        }
      ]
    },
    {
      "cell_type": "code",
      "source": [
        "#리스트의 슬라이싱\n",
        "a = \"12345\"\n",
        "a[0:2]"
      ],
      "metadata": {
        "colab": {
          "base_uri": "https://localhost:8080/",
          "height": 35
        },
        "id": "XiagvxcUuwK2",
        "outputId": "c862540b-4c1e-4e9c-c8e0-918f885c7e68"
      },
      "execution_count": 6,
      "outputs": [
        {
          "output_type": "execute_result",
          "data": {
            "text/plain": [
              "'12'"
            ],
            "application/vnd.google.colaboratory.intrinsic+json": {
              "type": "string"
            }
          },
          "metadata": {},
          "execution_count": 6
        }
      ]
    },
    {
      "cell_type": "code",
      "source": [
        "#리스트 더하기(+)\n",
        "a = [1, 2, 3]\n",
        "b = [4, 5, 6]\n",
        "a + b"
      ],
      "metadata": {
        "colab": {
          "base_uri": "https://localhost:8080/"
        },
        "id": "kRWGsgLsu6cm",
        "outputId": "295a7666-0e06-482d-9412-afc1c26c5396"
      },
      "execution_count": 7,
      "outputs": [
        {
          "output_type": "execute_result",
          "data": {
            "text/plain": [
              "[1, 2, 3, 4, 5, 6]"
            ]
          },
          "metadata": {},
          "execution_count": 7
        }
      ]
    },
    {
      "cell_type": "code",
      "source": [
        "#리스트 반복하기(*)\n",
        "a = [1, 2, 3]\n",
        "a * 3"
      ],
      "metadata": {
        "colab": {
          "base_uri": "https://localhost:8080/"
        },
        "id": "O45WZL5GvEq2",
        "outputId": "de1e9899-4914-4fa1-9c64-3b3bf4e528b9"
      },
      "execution_count": 8,
      "outputs": [
        {
          "output_type": "execute_result",
          "data": {
            "text/plain": [
              "[1, 2, 3, 1, 2, 3, 1, 2, 3]"
            ]
          },
          "metadata": {},
          "execution_count": 8
        }
      ]
    },
    {
      "cell_type": "code",
      "source": [
        "#리스트 길이 구하기\n",
        "a = [1, 2, 3]\n",
        "len(a)\n",
        "\n",
        "#len은 문자열, 리스트 외에 앞으로 배울 튜플과 딕셔너리에도 사용할 수 있는 함수\n",
        "#실습에서 자주 사용하므로 잘 기억해 둬야함"
      ],
      "metadata": {
        "colab": {
          "base_uri": "https://localhost:8080/"
        },
        "id": "PoHYEoEMvKsG",
        "outputId": "c2af2e67-a1f6-49db-8e34-b037ef05ce36"
      },
      "execution_count": 9,
      "outputs": [
        {
          "output_type": "execute_result",
          "data": {
            "text/plain": [
              "3"
            ]
          },
          "metadata": {},
          "execution_count": 9
        }
      ]
    },
    {
      "cell_type": "code",
      "source": [
        "#리스트의 값 수정하기\n",
        "a = [1, 2, 3]\n",
        "a[2] = 4\n",
        "a"
      ],
      "metadata": {
        "colab": {
          "base_uri": "https://localhost:8080/"
        },
        "id": "Jvj0NdOFwfE_",
        "outputId": "08fcb7c3-d4ec-4892-accf-e4355733814c"
      },
      "execution_count": 10,
      "outputs": [
        {
          "output_type": "execute_result",
          "data": {
            "text/plain": [
              "[1, 2, 4]"
            ]
          },
          "metadata": {},
          "execution_count": 10
        }
      ]
    },
    {
      "cell_type": "code",
      "source": [
        "#del을 사용해 리스트 요소 삭제\n",
        "a = [1, 2, 3]\n",
        "del a[1]\n",
        "a"
      ],
      "metadata": {
        "colab": {
          "base_uri": "https://localhost:8080/"
        },
        "id": "CFvcF9FJwmK_",
        "outputId": "e8426bb4-0835-4e88-820c-2f4885cb658e"
      },
      "execution_count": 11,
      "outputs": [
        {
          "output_type": "execute_result",
          "data": {
            "text/plain": [
              "[1, 3]"
            ]
          },
          "metadata": {},
          "execution_count": 11
        }
      ]
    },
    {
      "cell_type": "code",
      "source": [
        "#리스트의 요소 여러 개를 한꺼번에 삭제\n",
        "a = [1, 2, 3, 4, 5]\n",
        "del a[2:]\n",
        "a"
      ],
      "metadata": {
        "colab": {
          "base_uri": "https://localhost:8080/"
        },
        "id": "bwTEFN15w__P",
        "outputId": "d734235e-28f7-4759-c5da-fd2a5da199fb"
      },
      "execution_count": 12,
      "outputs": [
        {
          "output_type": "execute_result",
          "data": {
            "text/plain": [
              "[1, 2]"
            ]
          },
          "metadata": {},
          "execution_count": 12
        }
      ]
    },
    {
      "cell_type": "code",
      "source": [
        "#리스트에 요소 추가하기 - append\n",
        "a = [1, 2, 3]\n",
        "a.append(4)\n",
        "a\n",
        "#리스트 안에는 어떤 자료형도 추가할 수 있다\n",
        "a.append([5, 6])\n",
        "a"
      ],
      "metadata": {
        "colab": {
          "base_uri": "https://localhost:8080/"
        },
        "id": "-TcrnPM7xMvO",
        "outputId": "730801f8-1f9e-4297-d6c1-f35d2a50146a"
      },
      "execution_count": 15,
      "outputs": [
        {
          "output_type": "execute_result",
          "data": {
            "text/plain": [
              "[1, 2, 3, 4, [5, 6]]"
            ]
          },
          "metadata": {},
          "execution_count": 15
        }
      ]
    },
    {
      "cell_type": "code",
      "source": [
        "#리스트 정렬 - sort\n",
        "a = ['a', 'c', 'b']\n",
        "a.sort()\n",
        "a"
      ],
      "metadata": {
        "colab": {
          "base_uri": "https://localhost:8080/"
        },
        "id": "045-7USgxXtO",
        "outputId": "b9ff417e-13a3-4a08-a34b-95ef0770515d"
      },
      "execution_count": 16,
      "outputs": [
        {
          "output_type": "execute_result",
          "data": {
            "text/plain": [
              "['a', 'b', 'c']"
            ]
          },
          "metadata": {},
          "execution_count": 16
        }
      ]
    },
    {
      "cell_type": "code",
      "source": [
        "#리스트 뒤집기 - reverse\n",
        "a = ['a', 'c', 'b']\n",
        "a.reverse()\n",
        "a"
      ],
      "metadata": {
        "colab": {
          "base_uri": "https://localhost:8080/"
        },
        "id": "eeuSK-90xmhG",
        "outputId": "43ae769e-cf08-47db-f348-cb1d10219563"
      },
      "execution_count": 17,
      "outputs": [
        {
          "output_type": "execute_result",
          "data": {
            "text/plain": [
              "['b', 'c', 'a']"
            ]
          },
          "metadata": {},
          "execution_count": 17
        }
      ]
    },
    {
      "cell_type": "code",
      "source": [
        "#인덱스 반환 - index\n",
        "a = [1, 2, 3]\n",
        "a.index(3)\n",
        "\n",
        "#리스트 a에 있는 숫자 3의 위치는 a[2]이므로 2"
      ],
      "metadata": {
        "colab": {
          "base_uri": "https://localhost:8080/"
        },
        "id": "LkASyqggxtnv",
        "outputId": "2070c760-f254-4a9d-8c55-1ae2ff9a3313"
      },
      "execution_count": 19,
      "outputs": [
        {
          "output_type": "execute_result",
          "data": {
            "text/plain": [
              "2"
            ]
          },
          "metadata": {},
          "execution_count": 19
        }
      ]
    },
    {
      "cell_type": "code",
      "source": [
        "#리스트에 요소 삽입 - insert\n",
        "a = [1, 2, 3]\n",
        "a.insert(0, 4)\n",
        "a\n",
        "\n",
        "#첫 번째 요소인 a[0] 위치에 값 4를 삽입"
      ],
      "metadata": {
        "colab": {
          "base_uri": "https://localhost:8080/"
        },
        "id": "r68PCr5Ax8sW",
        "outputId": "4261713b-c5c4-49b7-faf1-966e942dde79"
      },
      "execution_count": 20,
      "outputs": [
        {
          "output_type": "execute_result",
          "data": {
            "text/plain": [
              "[4, 1, 2, 3]"
            ]
          },
          "metadata": {},
          "execution_count": 20
        }
      ]
    }
  ]
}
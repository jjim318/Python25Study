{
  "nbformat": 4,
  "nbformat_minor": 0,
  "metadata": {
    "colab": {
      "provenance": [],
      "authorship_tag": "ABX9TyORp5ndCs0SyoucTNBPZ3wO",
      "include_colab_link": true
    },
    "kernelspec": {
      "name": "python3",
      "display_name": "Python 3"
    },
    "language_info": {
      "name": "python"
    }
  },
  "cells": [
    {
      "cell_type": "markdown",
      "metadata": {
        "id": "view-in-github",
        "colab_type": "text"
      },
      "source": [
        "<a href=\"https://colab.research.google.com/github/jjim318/Python25Study/blob/master/if%EB%AC%B8.ipynb\" target=\"_parent\"><img src=\"https://colab.research.google.com/assets/colab-badge.svg\" alt=\"Open In Colab\"/></a>"
      ]
    },
    {
      "cell_type": "markdown",
      "source": [
        "if 문의 기본 구조\n",
        "\n",
        "---\n",
        "\n",
        "if 조건문:\n",
        "\n",
        "    수행할_문장1\n",
        "    수행할_문장2\n",
        "    ...\n",
        "else:\n",
        "\n",
        "    수행할_문장A\n",
        "    수행할_문장B\n",
        "    ...\n",
        "\n",
        "\n",
        "\n",
        "---\n",
        "if 조건문: 바로 다음 문장부터 if 문에 속하는 모든 문장에 들여쓰기(indentation)를 해야 한다\n",
        "\n",
        "if 조건문:\n",
        "\n",
        "    수행할_문장1\n",
        "    수행할_문장2\n",
        "    수행할_문장3\n",
        "\n",
        "다음처럼 작성하면 오류가 발생\n",
        "\n",
        "if 조건문:\n",
        "\n",
        "    수행할_문장1\n",
        "수행할_문장2\n",
        "    수행할_문장3\n",
        "\n",
        "  ex)\n",
        "  money = True\n",
        "if money:\n",
        "\n",
        "    print(\"택시를\")\n",
        "print(\"타고\")\n",
        "    print(\"가라\")\n",
        "\n",
        "즉, 들여쓰기는 언제나 같은 깊이로 해야 한다."
      ],
      "metadata": {
        "id": "PxK8J4qf9kJQ"
      }
    },
    {
      "cell_type": "markdown",
      "source": [
        "조건문 다음에 콜론(:)을 잊지 말자!\n",
        "\n",
        "파이썬이 다른 언어보다 보기 쉽고 소스 코드가 간결한 이유는 바로 콜론(:)을 사용하여 들여쓰기를 하도록 만들었기 때문\n",
        "\n",
        "다른 언어에서는 if 문에 속한 문장들을 {}로 감싸지만, 파이썬에서는 들여쓰기로 해결한다는 점을 기억"
      ],
      "metadata": {
        "id": "k6VMVyjc-xzo"
      }
    },
    {
      "cell_type": "markdown",
      "source": [
        "비교연산자\t설명\n",
        "\n",
        "x < y\n",
        "x가 y보다 작다.\n",
        "\n",
        "x > y\n",
        "x가 y보다 크다.\n",
        "\n",
        "x == y\n",
        "x와 y가 같다.\n",
        "\n",
        "x != y\n",
        "x와 y가 같지 않다.\n",
        "\n",
        "x >= y\n",
        "x가 y보다 크거나 같다.\n",
        "\n",
        "x <= y\n",
        "x가 y보다 작거나 같다."
      ],
      "metadata": {
        "id": "wZ_bFn5S_CzA"
      }
    },
    {
      "cell_type": "code",
      "source": [
        "#만약 3000원 이상의 돈을 가지고 있으면 택시를 타고 가고, 그렇지 않으면 걸어가라.\n",
        "money = 2000\n",
        "if money >= 3000:\n",
        "  print(\"택시를 타고 가라\")\n",
        "else:\n",
        "  print(\"걸어가라\")"
      ],
      "metadata": {
        "colab": {
          "base_uri": "https://localhost:8080/"
        },
        "id": "Q6as1hbm_fJo",
        "outputId": "f9d6f0da-66ef-4641-d271-34c3f9c46cc6"
      },
      "execution_count": 2,
      "outputs": [
        {
          "output_type": "stream",
          "name": "stdout",
          "text": [
            "걸어가라\n"
          ]
        }
      ]
    },
    {
      "cell_type": "markdown",
      "source": [
        "and, or, not\n",
        "\n",
        "---\n",
        "\n",
        "연산자\t설명\n",
        "\n",
        "x or y\n",
        "x와 y 둘 중 하나만 참이어도 참이다.\n",
        "\n",
        "x and y\n",
        "x와 y 모두 참이어야 참이다.\n",
        "\n",
        "not x\n",
        "x가 거짓이면 참이다."
      ],
      "metadata": {
        "id": "4h3I7Gpb_txw"
      }
    },
    {
      "cell_type": "code",
      "source": [
        "#돈이 3000원 이상 있거나 카드가 있다면 택시를 타고 가고, 그렇지 않으면 걸어가라.\n",
        "money = 2000\n",
        "card = True\n",
        "if money >= 3000 or card:\n",
        "  print(\"택시를 타고 가라\")\n",
        "else:\n",
        "  print(\"걸어가라\")"
      ],
      "metadata": {
        "colab": {
          "base_uri": "https://localhost:8080/"
        },
        "id": "oF3JmiiP_4cg",
        "outputId": "5b91615a-763b-44c8-b71e-4822641f11f2"
      },
      "execution_count": 3,
      "outputs": [
        {
          "output_type": "stream",
          "name": "stdout",
          "text": [
            "택시를 타고 가라\n"
          ]
        }
      ]
    },
    {
      "cell_type": "markdown",
      "source": [
        "in, not in\n",
        "\n",
        "---\n",
        "in\t| not in\n",
        "\n",
        "x in 리스트 |\tx not in 리스트\n",
        "\n",
        "x in 튜플 |\tx not in 튜플\n",
        "\n",
        "x in 문자열 |\tx not in 문자열\n"
      ],
      "metadata": {
        "id": "xJagjXPMAJoQ"
      }
    },
    {
      "cell_type": "code",
      "source": [
        "1 in [1, 2, 3]"
      ],
      "metadata": {
        "colab": {
          "base_uri": "https://localhost:8080/"
        },
        "id": "mXSNSifSAmKY",
        "outputId": "694ee1a2-e450-4ade-d8e1-905c193f6873"
      },
      "execution_count": 4,
      "outputs": [
        {
          "output_type": "execute_result",
          "data": {
            "text/plain": [
              "True"
            ]
          },
          "metadata": {},
          "execution_count": 4
        }
      ]
    },
    {
      "cell_type": "code",
      "source": [
        "1 not in [1, 2, 3]"
      ],
      "metadata": {
        "colab": {
          "base_uri": "https://localhost:8080/"
        },
        "id": "7iN_7iPxAqz4",
        "outputId": "fb60ee0f-ded1-43f6-e5cb-ca3b678f21a7"
      },
      "execution_count": 5,
      "outputs": [
        {
          "output_type": "execute_result",
          "data": {
            "text/plain": [
              "False"
            ]
          },
          "metadata": {},
          "execution_count": 5
        }
      ]
    },
    {
      "cell_type": "code",
      "source": [
        "#만약 주머니에 돈이 있으면 택시를 타고 가고, 없으면 걸어가라.\n",
        "pocket = ['paper', 'cellphone', 'money']\n",
        "if 'money' in pocket:\n",
        "  print(\"택시를 타고 가라\")\n",
        "else:\n",
        "  print(\"걸어가라\")"
      ],
      "metadata": {
        "colab": {
          "base_uri": "https://localhost:8080/"
        },
        "id": "8TBpK7A9Au1o",
        "outputId": "e9980705-0c92-461a-d686-10f22c8840bf"
      },
      "execution_count": 6,
      "outputs": [
        {
          "output_type": "stream",
          "name": "stdout",
          "text": [
            "택시를 타고 가라\n"
          ]
        }
      ]
    },
    {
      "cell_type": "markdown",
      "source": [
        "조건문의 참, 거짓에 따라 실행할 행동을 정의할 때나 아무런 일도 하지 않도록 설정\n",
        "\n",
        "---\n",
        "\n",
        "주머니에 돈이 있으면 가만히 있고, 주머니에 돈이 없으면 카드를 꺼내라.\n",
        "\n",
        "pocket = ['paper', 'money', 'cellphone']\n",
        "\n",
        "if 'money' in pocket:\n",
        "\n",
        "     pass\n",
        " else:\n",
        "\n",
        "     print(\"카드를 꺼내라\")\n",
        "\n",
        "\n",
        "---\n",
        "pocket 리스트 안에 money 문자열이 있기 때문에 if 문 다음 문장인 pass가 수행되고 아무런 결과값도 보여 주지 않는다.\n"
      ],
      "metadata": {
        "id": "uZ8ATXkpA5vw"
      }
    },
    {
      "cell_type": "code",
      "source": [
        "#다양한 조건을 판단하는 elif\n",
        "#주머니에 돈이 있으면 택시를 타고 가고,\n",
        "#주머니에 돈은 없지만 카드가 있으면 택시를 타고 가고,\n",
        "#돈도 없고 카드도 없으면 걸어가라.\n",
        "pocket = ['paper', 'cellphone']\n",
        "card = True\n",
        "if 'money' in pocket:\n",
        "  print(\"택시를 타고가라\")\n",
        "else:\n",
        "  if card:\n",
        "    print(\"택시를 타고가라\")\n",
        "  else:\n",
        "    print(\"걸어가라\")"
      ],
      "metadata": {
        "colab": {
          "base_uri": "https://localhost:8080/"
        },
        "id": "Ljxaj5wfBfGY",
        "outputId": "bae2f3d7-f999-405e-8379-9eab2925f9ac"
      },
      "execution_count": 7,
      "outputs": [
        {
          "output_type": "stream",
          "name": "stdout",
          "text": [
            "택시를 타고가라\n"
          ]
        }
      ]
    },
    {
      "cell_type": "code",
      "source": [
        "#위 예에 elif를 사용하면 다음과 같이 바꿀 수 있다.\n",
        "pocket = ['paper', 'cellphone']\n",
        "card = True\n",
        "if 'money' in pocket:\n",
        "  print(\"택시를 타고가라\")\n",
        "elif card:\n",
        "    print(\"택시를 타고가라\")\n",
        "else:\n",
        "    print(\"걸어가라\")"
      ],
      "metadata": {
        "colab": {
          "base_uri": "https://localhost:8080/"
        },
        "id": "tZEIftrNBnSw",
        "outputId": "e660b80c-6b77-415b-c2cc-321a6a39f8f5"
      },
      "execution_count": 8,
      "outputs": [
        {
          "output_type": "stream",
          "name": "stdout",
          "text": [
            "택시를 타고가라\n"
          ]
        }
      ]
    },
    {
      "cell_type": "markdown",
      "source": [
        "if 조건문:\n",
        "\n",
        "    수행할_문장1\n",
        "    수행할_문장2\n",
        "    ...\n",
        "elif 조건문:\n",
        "\n",
        "    수행할_문장1\n",
        "    수행할_문장2\n",
        "    ...\n",
        "elif 조건문:\n",
        "\n",
        "    수행할_문장1\n",
        "    수행할_문장2\n",
        "    ...\n",
        "...\n",
        "\n",
        "else:\n",
        "\n",
        "   수행할_문장1\n",
        "\n",
        "   수행할_문장2\n",
        "   \n",
        "   ![03_1_if3.png](data:image/png;base64,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)\n",
        "   ...\n",
        "\n",
        "\n",
        "---\n",
        "\n",
        "위에서 볼 수 있듯이 elif는 개수에 제한 없이 사용할 수 있다."
      ],
      "metadata": {
        "id": "SN5gKbMuCL-o"
      }
    },
    {
      "cell_type": "code",
      "source": [
        "#if 문을 한 줄로 작성하기\n",
        "if 'money' in pocket:\n",
        "     pass\n",
        "else:\n",
        "     print(\"카드를 꺼내라\")\n",
        "\n",
        "#한 줄일 때 좀 더 간략하게 코드를 작성하는 방법\n",
        "\n",
        "pocket = ['paper', 'money', 'cellphone']\n",
        "if 'money' in pocket: pass\n",
        "else: print(\"카드를 꺼내라\")"
      ],
      "metadata": {
        "id": "8Y53sb6wCm-A"
      },
      "execution_count": null,
      "outputs": []
    },
    {
      "cell_type": "code",
      "source": [
        "#비교 연산자의 연쇄 사용\n",
        "x = 5\n",
        "1 < x < 10\n",
        "\n",
        "#위에랑 같은 식\n",
        "x = 5\n",
        "(1 < x) and (x < 10)"
      ],
      "metadata": {
        "colab": {
          "base_uri": "https://localhost:8080/"
        },
        "id": "ea5rZKDEEC-o",
        "outputId": "c785547c-0531-4137-996e-2e4ad8129c8a"
      },
      "execution_count": 9,
      "outputs": [
        {
          "output_type": "execute_result",
          "data": {
            "text/plain": [
              "True"
            ]
          },
          "metadata": {},
          "execution_count": 9
        }
      ]
    },
    {
      "cell_type": "code",
      "source": [
        "#조건부 표현식\n",
        "score = 85\n",
        "if score >= 60:\n",
        "  result = \"합격\"\n",
        "else:\n",
        "  result = \"불합격\"\n",
        "print(result)\n",
        "\n",
        "#위에랑 같은 식\n",
        "score = 85\n",
        "result = \"합격\" if score >= 60 else \"불합격\"\n",
        "print(result)"
      ],
      "metadata": {
        "colab": {
          "base_uri": "https://localhost:8080/"
        },
        "id": "jx0mqKqRxyfv",
        "outputId": "d0917e77-dc87-4227-f2de-c6336746fd3f"
      },
      "execution_count": 10,
      "outputs": [
        {
          "output_type": "stream",
          "name": "stdout",
          "text": [
            "합격\n"
          ]
        }
      ]
    },
    {
      "cell_type": "markdown",
      "source": [
        "조건부 표현식의 기본 형태\n",
        "\n",
        "변수 = 참일_때_값 if 조건 else 거짓일_때_값\n",
        "\n",
        " \"조건이 참이면 '참일 때 값'을, 거짓이면 '거짓일 때 값'을 변수에 대입한다\"는 의미\n",
        "\n",
        " 조건부 표현식은 코드를 간결하게 만들어 주지만, 너무 복잡한 조건이나 긴 표현식에는 사용하지 않는 것이 좋다. 가독성이 떨어질 수 있기 때문"
      ],
      "metadata": {
        "id": "sEDEgyDSyGGf"
      }
    }
  ]
}